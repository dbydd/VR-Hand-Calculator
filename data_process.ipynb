{
 "cells": [
  {
   "cell_type": "code",
   "execution_count": 1,
   "metadata": {},
   "outputs": [],
   "source": [
    "import pandas as pd;"
   ]
  },
  {
   "cell_type": "code",
   "execution_count": 2,
   "metadata": {},
   "outputs": [
    {
     "name": "stderr",
     "output_type": "stream",
     "text": [
      "C:\\Users\\19920\\AppData\\Local\\Temp\\ipykernel_8512\\3117820576.py:1: ParserWarning: Length of header or names does not match length of data. This leads to a loss of data with index_col=False.\n",
      "  gesture_0 = pd.read_csv(r\"resources/pose_index_0.csv\",index_col=False)\n",
      "C:\\Users\\19920\\AppData\\Local\\Temp\\ipykernel_8512\\3117820576.py:9: ParserWarning: Length of header or names does not match length of data. This leads to a loss of data with index_col=False.\n",
      "  gesture_2 = pd.read_csv(r\"resources/pose_index_2.csv\",index_col=False)\n",
      "C:\\Users\\19920\\AppData\\Local\\Temp\\ipykernel_8512\\3117820576.py:13: ParserWarning: Length of header or names does not match length of data. This leads to a loss of data with index_col=False.\n",
      "  gesture_3 = pd.read_csv(r\"resources/pose_index_3.csv\",index_col=False)\n",
      "C:\\Users\\19920\\AppData\\Local\\Temp\\ipykernel_8512\\3117820576.py:17: ParserWarning: Length of header or names does not match length of data. This leads to a loss of data with index_col=False.\n",
      "  gesture_4 = pd.read_csv(r\"resources/pose_index_4.csv\",index_col=False)\n",
      "C:\\Users\\19920\\AppData\\Local\\Temp\\ipykernel_8512\\3117820576.py:21: ParserWarning: Length of header or names does not match length of data. This leads to a loss of data with index_col=False.\n",
      "  gesture_5 = pd.read_csv(r\"resources/pose_index_5.csv\",index_col=False)\n",
      "C:\\Users\\19920\\AppData\\Local\\Temp\\ipykernel_8512\\3117820576.py:25: ParserWarning: Length of header or names does not match length of data. This leads to a loss of data with index_col=False.\n",
      "  gesture_6 = pd.read_csv(r\"resources/pose_index_6.csv\",index_col=False)\n",
      "C:\\Users\\19920\\AppData\\Local\\Temp\\ipykernel_8512\\3117820576.py:29: ParserWarning: Length of header or names does not match length of data. This leads to a loss of data with index_col=False.\n",
      "  gesture_7 = pd.read_csv(r\"resources/pose_index_7.csv\",index_col=False)\n",
      "C:\\Users\\19920\\AppData\\Local\\Temp\\ipykernel_8512\\3117820576.py:33: ParserWarning: Length of header or names does not match length of data. This leads to a loss of data with index_col=False.\n",
      "  gesture_8 = pd.read_csv(r\"resources/pose_index_8.csv\",index_col=False)\n",
      "C:\\Users\\19920\\AppData\\Local\\Temp\\ipykernel_8512\\3117820576.py:37: ParserWarning: Length of header or names does not match length of data. This leads to a loss of data with index_col=False.\n",
      "  gesture_9 = pd.read_csv(r\"resources/pose_index_9.csv\",index_col=False)\n",
      "C:\\Users\\19920\\AppData\\Local\\Temp\\ipykernel_8512\\3117820576.py:41: ParserWarning: Length of header or names does not match length of data. This leads to a loss of data with index_col=False.\n",
      "  gesture_compute = pd.read_csv(r\"resources/pose_index_compute.csv\",index_col=False)\n",
      "C:\\Users\\19920\\AppData\\Local\\Temp\\ipykernel_8512\\3117820576.py:43: ParserWarning: Length of header or names does not match length of data. This leads to a loss of data with index_col=False.\n",
      "  gesture_delete = pd.read_csv(r\"resources/pose_index_delete.csv\",index_col=False)\n",
      "C:\\Users\\19920\\AppData\\Local\\Temp\\ipykernel_8512\\3117820576.py:45: ParserWarning: Length of header or names does not match length of data. This leads to a loss of data with index_col=False.\n",
      "  gesture_div = pd.read_csv(r\"resources/pose_index_div.csv\",index_col=False)\n",
      "C:\\Users\\19920\\AppData\\Local\\Temp\\ipykernel_8512\\3117820576.py:47: ParserWarning: Length of header or names does not match length of data. This leads to a loss of data with index_col=False.\n",
      "  gesture_minus = pd.read_csv(r\"resources/pose_index_minus.csv\",index_col=False)\n",
      "C:\\Users\\19920\\AppData\\Local\\Temp\\ipykernel_8512\\3117820576.py:49: ParserWarning: Length of header or names does not match length of data. This leads to a loss of data with index_col=False.\n",
      "  gesture_mul = pd.read_csv(r\"resources/pose_index_mul.csv\",index_col=False)\n",
      "C:\\Users\\19920\\AppData\\Local\\Temp\\ipykernel_8512\\3117820576.py:51: ParserWarning: Length of header or names does not match length of data. This leads to a loss of data with index_col=False.\n",
      "  gesture_plus = pd.read_csv(r\"resources/pose_index_plus.csv\",index_col=False)\n",
      "C:\\Users\\19920\\AppData\\Local\\Temp\\ipykernel_8512\\3117820576.py:53: ParserWarning: Length of header or names does not match length of data. This leads to a loss of data with index_col=False.\n",
      "  gesture_natual = pd.read_csv(r\"resources/pose_index_natual.csv\",index_col=False)\n"
     ]
    }
   ],
   "source": [
    "gesture_0 = pd.read_csv(r\"resources/pose_index_0.csv\",index_col=False)\n",
    "# gesture_0 = pd.concat([gesture_0,pd.read_csv(r\"resources/pose_index_0_2.csv\",index_col=False)],ignore_index=True)\n",
    "gesture_0['gesture'] = \"0\"\n",
    "\n",
    "gesture_1 = pd.read_csv(r\"resources/pose_index_1.csv\",index_col=False)\n",
    "# gesture_1 = pd.concat([gesture_1,pd.read_csv(r\"resources/pose_index_1_2.csv\",index_col=False)],ignore_index=True)\n",
    "gesture_1['gesture'] = \"1\"\n",
    "\n",
    "gesture_2 = pd.read_csv(r\"resources/pose_index_2.csv\",index_col=False)\n",
    "# gesture_2 = pd.concat([gesture_2,pd.read_csv(r\"resources/pose_index_2_2.csv\",index_col=False)],ignore_index=True)\n",
    "gesture_2['gesture'] = \"2\"\n",
    "\n",
    "gesture_3 = pd.read_csv(r\"resources/pose_index_3.csv\",index_col=False)\n",
    "# gesture_3 = pd.concat([gesture_3,pd.read_csv(r\"resources/pose_index_3_2.csv\",index_col=False)],ignore_index=True)\n",
    "gesture_3['gesture'] = \"3\"\n",
    "\n",
    "gesture_4 = pd.read_csv(r\"resources/pose_index_4.csv\",index_col=False)\n",
    "# gesture_4 = pd.concat([gesture_4,pd.read_csv(r\"resources/pose_index_4_2.csv\",index_col=False)],ignore_index=True)\n",
    "gesture_4['gesture'] = \"4\"\n",
    "\n",
    "gesture_5 = pd.read_csv(r\"resources/pose_index_5.csv\",index_col=False)\n",
    "# gesture_5 = pd.concat([gesture_5,pd.read_csv(r\"resources/pose_index_5_2.csv\",index_col=False)],ignore_index=True)\n",
    "gesture_5['gesture'] = \"5\"\n",
    "\n",
    "gesture_6 = pd.read_csv(r\"resources/pose_index_6.csv\",index_col=False)\n",
    "# gesture_6 = pd.concat([gesture_6,pd.read_csv(r\"resources/pose_index_6_2.csv\",index_col=False)],ignore_index=True)\n",
    "gesture_6['gesture'] = \"6\"\n",
    "\n",
    "gesture_7 = pd.read_csv(r\"resources/pose_index_7.csv\",index_col=False)\n",
    "# gesture_7 = pd.concat([gesture_7,pd.read_csv(r\"resources/pose_index_7_2.csv\",index_col=False)],ignore_index=True)\n",
    "gesture_7['gesture'] = \"7\"\n",
    "\n",
    "gesture_8 = pd.read_csv(r\"resources/pose_index_8.csv\",index_col=False)\n",
    "# gesture_8 = pd.concat([gesture_8,pd.read_csv(r\"resources/pose_index_8_2.csv\",index_col=False)],ignore_index=True)\n",
    "gesture_8['gesture'] = \"8\"\n",
    "\n",
    "gesture_9 = pd.read_csv(r\"resources/pose_index_9.csv\",index_col=False)\n",
    "# gesture_9 = pd.concat([gesture_9,pd.read_csv(r\"resources/pose_index_9_2.csv\",index_col=False)],ignore_index=True)\n",
    "gesture_9['gesture'] = \"9\"\n",
    "\n",
    "gesture_compute = pd.read_csv(r\"resources/pose_index_compute.csv\",index_col=False)\n",
    "gesture_compute['gesture'] = \"compute\"\n",
    "gesture_delete = pd.read_csv(r\"resources/pose_index_delete.csv\",index_col=False)\n",
    "gesture_delete['gesture'] = \"delete\"\n",
    "gesture_div = pd.read_csv(r\"resources/pose_index_div.csv\",index_col=False)\n",
    "gesture_div['gesture'] = \"div\"\n",
    "gesture_minus = pd.read_csv(r\"resources/pose_index_minus.csv\",index_col=False)\n",
    "gesture_minus['gesture'] = \"minus\"\n",
    "gesture_mul = pd.read_csv(r\"resources/pose_index_mul.csv\",index_col=False)\n",
    "gesture_mul['gesture'] = \"mul\"\n",
    "gesture_plus = pd.read_csv(r\"resources/pose_index_plus.csv\",index_col=False)\n",
    "gesture_plus['gesture'] = \"plus\"\n",
    "gesture_natual = pd.read_csv(r\"resources/pose_index_natual.csv\",index_col=False)\n",
    "gesture_natual['gesture'] = \"natual\"\n",
    "\n",
    "df = pd.concat([gesture_0, gesture_1, gesture_2,gesture_3,gesture_4,gesture_5,gesture_6,gesture_7,gesture_8,gesture_9,gesture_compute,gesture_delete,gesture_div,gesture_minus,gesture_mul,gesture_plus,gesture_natual], ignore_index=True)\n",
    "\n",
    "df = df.sample(frac=1).reset_index(drop=True)\n",
    "df.to_csv(\"mixed.csv\",index=False)"
   ]
  },
  {
   "cell_type": "code",
   "execution_count": null,
   "metadata": {},
   "outputs": [],
   "source": []
  }
 ],
 "metadata": {
  "kernelspec": {
   "display_name": "base",
   "language": "python",
   "name": "python3"
  },
  "language_info": {
   "codemirror_mode": {
    "name": "ipython",
    "version": 3
   },
   "file_extension": ".py",
   "mimetype": "text/x-python",
   "name": "python",
   "nbconvert_exporter": "python",
   "pygments_lexer": "ipython3",
   "version": "3.11.7"
  }
 },
 "nbformat": 4,
 "nbformat_minor": 2
}
